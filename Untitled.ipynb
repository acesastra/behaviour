{
 "cells": [
  {
   "cell_type": "code",
   "execution_count": 1,
   "metadata": {},
   "outputs": [],
   "source": [
    "import pandas as pd\n",
    "import cv2\n",
    "import numpy as np\n",
    "from sklearn.model_selection import train_test_split\n",
    "import matplotlib.image as mpimg\n",
    "import os"
   ]
  },
  {
   "cell_type": "code",
   "execution_count": 2,
   "metadata": {},
   "outputs": [],
   "source": [
    "data = pd.read_csv(\"./data/driving_log.csv\")\n",
    "X = data[['center', 'left', 'right']].values\n",
    "y = data['steering'].values\n",
    "\n",
    "X_train, X_valid, y_train, y_valid = train_test_split(X, y, test_size=0.1, random_state=0)"
   ]
  },
  {
   "cell_type": "code",
   "execution_count": 3,
   "metadata": {},
   "outputs": [],
   "source": [
    "def choose(center, left, right, angle):\n",
    "    choice = np.random.choice(3)\n",
    "    if choice == 0:\n",
    "        return imageo(left), angle + 0.2\n",
    "    elif choice == 1:\n",
    "        return imageo(right), angle - 0.2\n",
    "    return imageo(center), angle\n",
    "\n",
    "\n",
    "def imageo(file):\n",
    "    return mpimg.imread(\"./data/\"+file.strip())\n",
    "\n",
    "\n",
    "\n",
    "def translate(image, angle, rangex, rangey):\n",
    "    transx = rangex * (np.random.rand() - 0.5)\n",
    "    transy = rangey * (np.random.rand() - 0.5)\n",
    "    angle += transx * 0.002\n",
    "    transm = np.float32([[1, 0, transx], [0, 1, transy]])\n",
    "  \n",
    "    height, width = image.shape[:2]\n",
    "    image = cv2.warpAffine(image, transm, (width, height))\n",
    "    return image, angle\n",
    "\n",
    "\n",
    "def flip(image, angle):\n",
    "  \n",
    "    if np.random.rand() < 0.5:\n",
    "        image = cv2.flip(image, 1)\n",
    "        angle = - angle\n",
    "    return image, angle\n",
    "\n",
    "def preprocess(image):\n",
    "    image = cv2.resize(image, (200, 66), interpolation=cv2.INTER_AREA)\n",
    "    image = cv2.cvtColor(image, cv2.COLOR_RGB2YUV)\n",
    "    return image\n",
    "\n",
    "def shadow(image):\n",
    "    image = cv2.cvtColor(image, cv2.COLOR_RGB2HSV)\n",
    "    brightness = .25 + np.random.uniform()\n",
    "    image[:,:,2] = image[:,:,2] * brightness\n",
    "    image = cv2.cvtColor(image, cv2.COLOR_HSV2RGB)\n",
    "    return image\n",
    "\n",
    "def augument(center, left, right, angle, rangex=100, rangey=10):\n",
    "    image, angle = choose( center, left, right, angle)\n",
    "    image, angle = flip(image, angle)\n",
    "    image, angle = translate(image, angle, rangex, rangey)\n",
    "    image = shadow(image)\n",
    "    image = brightness(image)\n",
    "    return image, angle\n",
    "\n",
    "\n",
    "\n",
    "def brightness(image):\n",
    "    # HSV (Hue, Saturation, Value) is also called HSB ('B' for Brightness).\n",
    "    hsv = cv2.cvtColor(image, cv2.COLOR_RGB2HSV)\n",
    "    ratio = 1.0 + 0.4 * (np.random.rand() - 0.5)\n",
    "    hsv[:,:,2] =  hsv[:,:,2] * ratio\n",
    "    return cv2.cvtColor(hsv, cv2.COLOR_HSV2RGB)\n",
    "\n",
    "def generator(image_paths, angles, batch_size, training):\n",
    "    images = np.zeros((batch_size, 66, 200, 3), dtype=np.float32)\n",
    "    steers = np.empty(batch_size)\n",
    "    while True:\n",
    "        i = 0\n",
    "        for index in np.random.permutation(image_paths.shape[0]):\n",
    "            center, left, right = image_paths[index]\n",
    "            angle = angles[index]\n",
    "            # argumentation\n",
    "            if training and np.random.rand() < 0.6:\n",
    "                image, angle = augument(center, left, right, angle)\n",
    "            else:\n",
    "                image = imageo(center) \n",
    "            # add the image and steering angle to the batch\n",
    "            images[i] = preprocess(image)\n",
    "            steers[i] = angle\n",
    "            i = i + 1\n",
    "            if i == batch_size:\n",
    "                break\n",
    "        yield images, steers"
   ]
  },
  {
   "cell_type": "code",
   "execution_count": 4,
   "metadata": {},
   "outputs": [
    {
     "name": "stderr",
     "output_type": "stream",
     "text": [
      "Using TensorFlow backend.\n"
     ]
    }
   ],
   "source": [
    "import keras\n",
    "from keras.models import Sequential\n",
    "from keras.optimizers import Adam\n",
    "from keras.callbacks import ModelCheckpoint\n",
    "from keras.layers import Cropping2D,Flatten,Dense, Conv2D, MaxPooling2D, Dropout, Lambda\n",
    "from keras.optimizers import Adam\n",
    "from keras.regularizers import l2"
   ]
  },
  {
   "cell_type": "code",
   "execution_count": 5,
   "metadata": {},
   "outputs": [
    {
     "name": "stdout",
     "output_type": "stream",
     "text": [
      "____________________________________________________________________________________________________\n",
      "Layer (type)                     Output Shape          Param #     Connected to                     \n",
      "====================================================================================================\n",
      "lambda_1 (Lambda)                (None, 66, 200, 3)    0           lambda_input_1[0][0]             \n",
      "____________________________________________________________________________________________________\n",
      "convolution2d_1 (Convolution2D)  (None, 31, 98, 24)    1824        lambda_1[0][0]                   \n",
      "____________________________________________________________________________________________________\n",
      "dropout_1 (Dropout)              (None, 31, 98, 24)    0           convolution2d_1[0][0]            \n",
      "____________________________________________________________________________________________________\n",
      "convolution2d_2 (Convolution2D)  (None, 14, 47, 36)    21636       dropout_1[0][0]                  \n",
      "____________________________________________________________________________________________________\n",
      "dropout_2 (Dropout)              (None, 14, 47, 36)    0           convolution2d_2[0][0]            \n",
      "____________________________________________________________________________________________________\n",
      "convolution2d_3 (Convolution2D)  (None, 5, 22, 48)     43248       dropout_2[0][0]                  \n",
      "____________________________________________________________________________________________________\n",
      "dropout_3 (Dropout)              (None, 5, 22, 48)     0           convolution2d_3[0][0]            \n",
      "____________________________________________________________________________________________________\n",
      "convolution2d_4 (Convolution2D)  (None, 3, 20, 64)     27712       dropout_3[0][0]                  \n",
      "____________________________________________________________________________________________________\n",
      "dropout_4 (Dropout)              (None, 3, 20, 64)     0           convolution2d_4[0][0]            \n",
      "____________________________________________________________________________________________________\n",
      "convolution2d_5 (Convolution2D)  (None, 1, 18, 64)     36928       dropout_4[0][0]                  \n",
      "____________________________________________________________________________________________________\n",
      "dropout_5 (Dropout)              (None, 1, 18, 64)     0           convolution2d_5[0][0]            \n",
      "____________________________________________________________________________________________________\n",
      "flatten_1 (Flatten)              (None, 1152)          0           dropout_5[0][0]                  \n",
      "____________________________________________________________________________________________________\n",
      "dropout_6 (Dropout)              (None, 1152)          0           flatten_1[0][0]                  \n",
      "____________________________________________________________________________________________________\n",
      "dense_1 (Dense)                  (None, 100)           115300      dropout_6[0][0]                  \n",
      "____________________________________________________________________________________________________\n",
      "dropout_7 (Dropout)              (None, 100)           0           dense_1[0][0]                    \n",
      "____________________________________________________________________________________________________\n",
      "dense_2 (Dense)                  (None, 50)            5050        dropout_7[0][0]                  \n",
      "____________________________________________________________________________________________________\n",
      "dropout_8 (Dropout)              (None, 50)            0           dense_2[0][0]                    \n",
      "____________________________________________________________________________________________________\n",
      "dense_3 (Dense)                  (None, 10)            510         dropout_8[0][0]                  \n",
      "____________________________________________________________________________________________________\n",
      "dropout_9 (Dropout)              (None, 10)            0           dense_3[0][0]                    \n",
      "____________________________________________________________________________________________________\n",
      "dense_4 (Dense)                  (None, 1)             11          dropout_9[0][0]                  \n",
      "====================================================================================================\n",
      "Total params: 252,219\n",
      "Trainable params: 252,219\n",
      "Non-trainable params: 0\n",
      "____________________________________________________________________________________________________\n"
     ]
    }
   ],
   "source": [
    "model = Sequential()\n",
    "model.add(Lambda(lambda x: x/255.0-0.5, input_shape=(66,200,3)))\n",
    "model.add(Conv2D(24, 5, 5, activation='elu', subsample=(2,2),  init='he_normal', W_regularizer=l2(0.001)))\n",
    "model.add(Dropout(0.1))\n",
    "model.add(Conv2D(36, 5, 5, activation='elu', subsample=(2, 2),  init='he_normal', W_regularizer=l2(0.001)))\n",
    "model.add(Dropout(0.2))\n",
    "model.add(Conv2D(48, 5, 5, activation='elu', subsample=(2, 2),  init='he_normal', W_regularizer=l2(0.001)))\n",
    "model.add(Dropout(0.2))\n",
    "model.add(Conv2D(64, 3, 3, activation='elu',  init='he_normal', W_regularizer=l2(0.001)))\n",
    "model.add(Dropout(0.2))\n",
    "model.add(Conv2D(64, 3, 3, activation='elu',  init='he_normal', W_regularizer=l2(0.001)))\n",
    "model.add(Dropout(0.5))\n",
    "model.add(Flatten())\n",
    "model.add(Dropout(0.3))\n",
    "model.add(Dense(100, activation='elu', init='he_normal', W_regularizer=l2(0.001)))\n",
    "model.add(Dropout(0.5))\n",
    "model.add(Dense(50, activation='elu', init='he_normal', W_regularizer=l2(0.001)))\n",
    "model.add(Dropout(0.5))\n",
    "model.add(Dense(10, activation='elu', init='he_normal', W_regularizer=l2(0.001)))\n",
    "model.add(Dropout(0.5))\n",
    "model.add(Dense(1,activation='linear', init='he_normal'))\n",
    "model.summary()"
   ]
  },
  {
   "cell_type": "code",
   "execution_count": 6,
   "metadata": {},
   "outputs": [
    {
     "name": "stdout",
     "output_type": "stream",
     "text": [
      "Epoch 1/28\n",
      "24000/24000 [==============================] - 102s - loss: 1.4411 - val_loss: 0.7774\n",
      "Epoch 2/28\n",
      "24000/24000 [==============================] - 101s - loss: 0.8675 - val_loss: 0.7111\n",
      "Epoch 3/28\n",
      "24000/24000 [==============================] - 100s - loss: 0.7191 - val_loss: 0.6390\n",
      "Epoch 4/28\n",
      "24000/24000 [==============================] - 102s - loss: 0.6235 - val_loss: 0.5587\n",
      "Epoch 5/28\n",
      "24000/24000 [==============================] - 100s - loss: 0.5383 - val_loss: 0.4790\n",
      "Epoch 6/28\n",
      "24000/24000 [==============================] - 100s - loss: 0.4542 - val_loss: 0.3930\n",
      "Epoch 7/28\n",
      "24000/24000 [==============================] - 99s - loss: 0.3728 - val_loss: 0.3139\n",
      "Epoch 8/28\n",
      "24000/24000 [==============================] - 99s - loss: 0.2957 - val_loss: 0.2406\n",
      "Epoch 9/28\n",
      "24000/24000 [==============================] - 100s - loss: 0.2289 - val_loss: 0.1815\n",
      "Epoch 10/28\n",
      "24000/24000 [==============================] - 101s - loss: 0.1718 - val_loss: 0.1329\n",
      "Epoch 11/28\n",
      "24000/24000 [==============================] - 100s - loss: 0.1269 - val_loss: 0.0933\n",
      "Epoch 12/28\n",
      "24000/24000 [==============================] - 101s - loss: 0.0921 - val_loss: 0.0645\n",
      "Epoch 13/28\n",
      "24000/24000 [==============================] - 100s - loss: 0.0691 - val_loss: 0.0481\n",
      "Epoch 14/28\n",
      "24000/24000 [==============================] - 100s - loss: 0.0534 - val_loss: 0.0357\n",
      "Epoch 15/28\n",
      "24000/24000 [==============================] - 99s - loss: 0.0434 - val_loss: 0.0268\n",
      "Epoch 16/28\n",
      "24000/24000 [==============================] - 100s - loss: 0.0369 - val_loss: 0.0255\n",
      "Epoch 17/28\n",
      "24000/24000 [==============================] - 100s - loss: 0.0335 - val_loss: 0.0222\n",
      "Epoch 18/28\n",
      "24000/24000 [==============================] - 100s - loss: 0.0314 - val_loss: 0.0198\n",
      "Epoch 19/28\n",
      "24000/24000 [==============================] - 99s - loss: 0.0302 - val_loss: 0.0201\n",
      "Epoch 20/28\n",
      "24000/24000 [==============================] - 101s - loss: 0.0295 - val_loss: 0.0212\n",
      "Epoch 21/28\n",
      "24000/24000 [==============================] - 100s - loss: 0.0300 - val_loss: 0.0201\n",
      "Epoch 22/28\n",
      "24000/24000 [==============================] - 99s - loss: 0.0290 - val_loss: 0.0184\n",
      "Epoch 23/28\n",
      "24000/24000 [==============================] - 100s - loss: 0.0291 - val_loss: 0.0186\n",
      "Epoch 24/28\n",
      "24000/24000 [==============================] - 100s - loss: 0.0295 - val_loss: 0.0177\n",
      "Epoch 25/28\n",
      "24000/24000 [==============================] - 99s - loss: 0.0294 - val_loss: 0.0177\n",
      "Epoch 26/28\n",
      "24000/24000 [==============================] - 99s - loss: 0.0295 - val_loss: 0.0195\n",
      "Epoch 27/28\n",
      "24000/24000 [==============================] - 99s - loss: 0.0289 - val_loss: 0.0184\n",
      "Epoch 28/28\n",
      "24000/24000 [==============================] - 98s - loss: 0.0296 - val_loss: 0.0168\n"
     ]
    },
    {
     "data": {
      "text/plain": [
       "<keras.callbacks.History at 0x7f8580b06e48>"
      ]
     },
     "execution_count": 6,
     "metadata": {},
     "output_type": "execute_result"
    }
   ],
   "source": [
    "checkpoint = ModelCheckpoint('model-{epoch:03d}.h5',\n",
    "                                 monitor='val_loss',\n",
    "                                 verbose=1,\n",
    "                                 save_best_only=True,\n",
    "                                 mode='auto')\n",
    "\n",
    "model.compile(loss='mse', optimizer=Adam(lr=1e-3))\n",
    "model.fit_generator(generator( X_train, y_train, 64, True), 24000,\n",
    "validation_data=generator(X_valid, y_valid, 64, False), nb_val_samples=1024, nb_epoch=28, verbose = 1)\n"
   ]
  },
  {
   "cell_type": "code",
   "execution_count": null,
   "metadata": {},
   "outputs": [],
   "source": [
    "model.save(\"model.h5\")"
   ]
  },
  {
   "cell_type": "code",
   "execution_count": null,
   "metadata": {},
   "outputs": [],
   "source": []
  },
  {
   "cell_type": "code",
   "execution_count": 7,
   "metadata": {},
   "outputs": [
    {
     "ename": "NameError",
     "evalue": "name 'json' is not defined",
     "output_type": "error",
     "traceback": [
      "\u001b[0;31m---------------------------------------------------------------------------\u001b[0m",
      "\u001b[0;31mNameError\u001b[0m                                 Traceback (most recent call last)",
      "\u001b[0;32m<ipython-input-7-d24b6efffb4f>\u001b[0m in \u001b[0;36m<module>\u001b[0;34m()\u001b[0m\n\u001b[1;32m      2\u001b[0m     \u001b[0;31m# Save model architecture as json file\u001b[0m\u001b[0;34m\u001b[0m\u001b[0;34m\u001b[0m\u001b[0m\n\u001b[1;32m      3\u001b[0m \u001b[0;32mwith\u001b[0m \u001b[0mopen\u001b[0m\u001b[0;34m(\u001b[0m\u001b[0;34m'model.json'\u001b[0m\u001b[0;34m,\u001b[0m \u001b[0;34m'w'\u001b[0m\u001b[0;34m)\u001b[0m \u001b[0;32mas\u001b[0m \u001b[0moutfile\u001b[0m\u001b[0;34m:\u001b[0m\u001b[0;34m\u001b[0m\u001b[0m\n\u001b[0;32m----> 4\u001b[0;31m     \u001b[0mjson\u001b[0m\u001b[0;34m.\u001b[0m\u001b[0mdump\u001b[0m\u001b[0;34m(\u001b[0m\u001b[0mmodel\u001b[0m\u001b[0;34m.\u001b[0m\u001b[0mto_json\u001b[0m\u001b[0;34m(\u001b[0m\u001b[0;34m)\u001b[0m\u001b[0;34m,\u001b[0m \u001b[0moutfile\u001b[0m\u001b[0;34m)\u001b[0m\u001b[0;34m\u001b[0m\u001b[0m\n\u001b[0m",
      "\u001b[0;31mNameError\u001b[0m: name 'json' is not defined"
     ]
    }
   ],
   "source": [
    "model.save_weights('model1.h5')\n",
    "    # Save model architecture as json file\n",
    "with open('model.json', 'w') as outfile:\n",
    "    json.dump(model.to_json(), outfile)"
   ]
  },
  {
   "cell_type": "code",
   "execution_count": null,
   "metadata": {},
   "outputs": [],
   "source": []
  },
  {
   "cell_type": "code",
   "execution_count": null,
   "metadata": {},
   "outputs": [],
   "source": []
  }
 ],
 "metadata": {
  "kernelspec": {
   "display_name": "Python 3",
   "language": "python",
   "name": "python3"
  },
  "language_info": {
   "codemirror_mode": {
    "name": "ipython",
    "version": 3
   },
   "file_extension": ".py",
   "mimetype": "text/x-python",
   "name": "python",
   "nbconvert_exporter": "python",
   "pygments_lexer": "ipython3",
   "version": "3.5.2"
  }
 },
 "nbformat": 4,
 "nbformat_minor": 2
}
